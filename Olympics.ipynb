{
 "cells": [
  {
   "cell_type": "markdown",
   "metadata": {},
   "source": [
    "#  Шилин Кирилл "
   ]
  },
  {
   "cell_type": "code",
   "execution_count": 196,
   "metadata": {},
   "outputs": [],
   "source": [
    "import pandas as pd\n",
    "import numpy as np\n",
    "from sklearn.preprocessing import LabelEncoder\n",
    "from sklearn.preprocessing import OneHotEncoder\n",
    "from sklearn.preprocessing import OrdinalEncoder\n",
    "import matplotlib.pyplot as plt\n",
    "%matplotlib inline"
   ]
  },
  {
   "cell_type": "code",
   "execution_count": 197,
   "metadata": {},
   "outputs": [
    {
     "data": {
      "text/html": [
       "<div>\n",
       "<style scoped>\n",
       "    .dataframe tbody tr th:only-of-type {\n",
       "        vertical-align: middle;\n",
       "    }\n",
       "\n",
       "    .dataframe tbody tr th {\n",
       "        vertical-align: top;\n",
       "    }\n",
       "\n",
       "    .dataframe thead th {\n",
       "        text-align: right;\n",
       "    }\n",
       "</style>\n",
       "<table border=\"1\" class=\"dataframe\">\n",
       "  <thead>\n",
       "    <tr style=\"text-align: right;\">\n",
       "      <th></th>\n",
       "      <th>ID</th>\n",
       "      <th>Name</th>\n",
       "      <th>Sex</th>\n",
       "      <th>Age</th>\n",
       "      <th>Height</th>\n",
       "      <th>Weight</th>\n",
       "      <th>Team</th>\n",
       "      <th>NOC</th>\n",
       "      <th>Games</th>\n",
       "      <th>Year</th>\n",
       "      <th>Season</th>\n",
       "      <th>City</th>\n",
       "      <th>Sport</th>\n",
       "      <th>Event</th>\n",
       "      <th>Medal</th>\n",
       "    </tr>\n",
       "  </thead>\n",
       "  <tbody>\n",
       "    <tr>\n",
       "      <th>0</th>\n",
       "      <td>1</td>\n",
       "      <td>A Dijiang</td>\n",
       "      <td>M</td>\n",
       "      <td>24.0</td>\n",
       "      <td>180.0</td>\n",
       "      <td>80.0</td>\n",
       "      <td>China</td>\n",
       "      <td>CHN</td>\n",
       "      <td>1992 Summer</td>\n",
       "      <td>1992</td>\n",
       "      <td>Summer</td>\n",
       "      <td>Barcelona</td>\n",
       "      <td>Basketball</td>\n",
       "      <td>Basketball Men's Basketball</td>\n",
       "      <td>NaN</td>\n",
       "    </tr>\n",
       "    <tr>\n",
       "      <th>1</th>\n",
       "      <td>2</td>\n",
       "      <td>A Lamusi</td>\n",
       "      <td>M</td>\n",
       "      <td>23.0</td>\n",
       "      <td>170.0</td>\n",
       "      <td>60.0</td>\n",
       "      <td>China</td>\n",
       "      <td>CHN</td>\n",
       "      <td>2012 Summer</td>\n",
       "      <td>2012</td>\n",
       "      <td>Summer</td>\n",
       "      <td>London</td>\n",
       "      <td>Judo</td>\n",
       "      <td>Judo Men's Extra-Lightweight</td>\n",
       "      <td>NaN</td>\n",
       "    </tr>\n",
       "    <tr>\n",
       "      <th>2</th>\n",
       "      <td>3</td>\n",
       "      <td>Gunnar Nielsen Aaby</td>\n",
       "      <td>M</td>\n",
       "      <td>24.0</td>\n",
       "      <td>NaN</td>\n",
       "      <td>NaN</td>\n",
       "      <td>Denmark</td>\n",
       "      <td>DEN</td>\n",
       "      <td>1920 Summer</td>\n",
       "      <td>1920</td>\n",
       "      <td>Summer</td>\n",
       "      <td>Antwerpen</td>\n",
       "      <td>Football</td>\n",
       "      <td>Football Men's Football</td>\n",
       "      <td>NaN</td>\n",
       "    </tr>\n",
       "    <tr>\n",
       "      <th>3</th>\n",
       "      <td>4</td>\n",
       "      <td>Edgar Lindenau Aabye</td>\n",
       "      <td>M</td>\n",
       "      <td>34.0</td>\n",
       "      <td>NaN</td>\n",
       "      <td>NaN</td>\n",
       "      <td>Denmark/Sweden</td>\n",
       "      <td>DEN</td>\n",
       "      <td>1900 Summer</td>\n",
       "      <td>1900</td>\n",
       "      <td>Summer</td>\n",
       "      <td>Paris</td>\n",
       "      <td>Tug-Of-War</td>\n",
       "      <td>Tug-Of-War Men's Tug-Of-War</td>\n",
       "      <td>Gold</td>\n",
       "    </tr>\n",
       "    <tr>\n",
       "      <th>4</th>\n",
       "      <td>5</td>\n",
       "      <td>Christine Jacoba Aaftink</td>\n",
       "      <td>F</td>\n",
       "      <td>21.0</td>\n",
       "      <td>185.0</td>\n",
       "      <td>82.0</td>\n",
       "      <td>Netherlands</td>\n",
       "      <td>NED</td>\n",
       "      <td>1988 Winter</td>\n",
       "      <td>1988</td>\n",
       "      <td>Winter</td>\n",
       "      <td>Calgary</td>\n",
       "      <td>Speed Skating</td>\n",
       "      <td>Speed Skating Women's 500 metres</td>\n",
       "      <td>NaN</td>\n",
       "    </tr>\n",
       "    <tr>\n",
       "      <th>...</th>\n",
       "      <td>...</td>\n",
       "      <td>...</td>\n",
       "      <td>...</td>\n",
       "      <td>...</td>\n",
       "      <td>...</td>\n",
       "      <td>...</td>\n",
       "      <td>...</td>\n",
       "      <td>...</td>\n",
       "      <td>...</td>\n",
       "      <td>...</td>\n",
       "      <td>...</td>\n",
       "      <td>...</td>\n",
       "      <td>...</td>\n",
       "      <td>...</td>\n",
       "      <td>...</td>\n",
       "    </tr>\n",
       "    <tr>\n",
       "      <th>271111</th>\n",
       "      <td>135569</td>\n",
       "      <td>Andrzej ya</td>\n",
       "      <td>M</td>\n",
       "      <td>29.0</td>\n",
       "      <td>179.0</td>\n",
       "      <td>89.0</td>\n",
       "      <td>Poland-1</td>\n",
       "      <td>POL</td>\n",
       "      <td>1976 Winter</td>\n",
       "      <td>1976</td>\n",
       "      <td>Winter</td>\n",
       "      <td>Innsbruck</td>\n",
       "      <td>Luge</td>\n",
       "      <td>Luge Mixed (Men)'s Doubles</td>\n",
       "      <td>NaN</td>\n",
       "    </tr>\n",
       "    <tr>\n",
       "      <th>271112</th>\n",
       "      <td>135570</td>\n",
       "      <td>Piotr ya</td>\n",
       "      <td>M</td>\n",
       "      <td>27.0</td>\n",
       "      <td>176.0</td>\n",
       "      <td>59.0</td>\n",
       "      <td>Poland</td>\n",
       "      <td>POL</td>\n",
       "      <td>2014 Winter</td>\n",
       "      <td>2014</td>\n",
       "      <td>Winter</td>\n",
       "      <td>Sochi</td>\n",
       "      <td>Ski Jumping</td>\n",
       "      <td>Ski Jumping Men's Large Hill, Individual</td>\n",
       "      <td>NaN</td>\n",
       "    </tr>\n",
       "    <tr>\n",
       "      <th>271113</th>\n",
       "      <td>135570</td>\n",
       "      <td>Piotr ya</td>\n",
       "      <td>M</td>\n",
       "      <td>27.0</td>\n",
       "      <td>176.0</td>\n",
       "      <td>59.0</td>\n",
       "      <td>Poland</td>\n",
       "      <td>POL</td>\n",
       "      <td>2014 Winter</td>\n",
       "      <td>2014</td>\n",
       "      <td>Winter</td>\n",
       "      <td>Sochi</td>\n",
       "      <td>Ski Jumping</td>\n",
       "      <td>Ski Jumping Men's Large Hill, Team</td>\n",
       "      <td>NaN</td>\n",
       "    </tr>\n",
       "    <tr>\n",
       "      <th>271114</th>\n",
       "      <td>135571</td>\n",
       "      <td>Tomasz Ireneusz ya</td>\n",
       "      <td>M</td>\n",
       "      <td>30.0</td>\n",
       "      <td>185.0</td>\n",
       "      <td>96.0</td>\n",
       "      <td>Poland</td>\n",
       "      <td>POL</td>\n",
       "      <td>1998 Winter</td>\n",
       "      <td>1998</td>\n",
       "      <td>Winter</td>\n",
       "      <td>Nagano</td>\n",
       "      <td>Bobsleigh</td>\n",
       "      <td>Bobsleigh Men's Four</td>\n",
       "      <td>NaN</td>\n",
       "    </tr>\n",
       "    <tr>\n",
       "      <th>271115</th>\n",
       "      <td>135571</td>\n",
       "      <td>Tomasz Ireneusz ya</td>\n",
       "      <td>M</td>\n",
       "      <td>34.0</td>\n",
       "      <td>185.0</td>\n",
       "      <td>96.0</td>\n",
       "      <td>Poland</td>\n",
       "      <td>POL</td>\n",
       "      <td>2002 Winter</td>\n",
       "      <td>2002</td>\n",
       "      <td>Winter</td>\n",
       "      <td>Salt Lake City</td>\n",
       "      <td>Bobsleigh</td>\n",
       "      <td>Bobsleigh Men's Four</td>\n",
       "      <td>NaN</td>\n",
       "    </tr>\n",
       "  </tbody>\n",
       "</table>\n",
       "<p>271116 rows × 15 columns</p>\n",
       "</div>"
      ],
      "text/plain": [
       "            ID                      Name Sex   Age  Height  Weight  \\\n",
       "0            1                 A Dijiang   M  24.0   180.0    80.0   \n",
       "1            2                  A Lamusi   M  23.0   170.0    60.0   \n",
       "2            3       Gunnar Nielsen Aaby   M  24.0     NaN     NaN   \n",
       "3            4      Edgar Lindenau Aabye   M  34.0     NaN     NaN   \n",
       "4            5  Christine Jacoba Aaftink   F  21.0   185.0    82.0   \n",
       "...        ...                       ...  ..   ...     ...     ...   \n",
       "271111  135569                Andrzej ya   M  29.0   179.0    89.0   \n",
       "271112  135570                  Piotr ya   M  27.0   176.0    59.0   \n",
       "271113  135570                  Piotr ya   M  27.0   176.0    59.0   \n",
       "271114  135571        Tomasz Ireneusz ya   M  30.0   185.0    96.0   \n",
       "271115  135571        Tomasz Ireneusz ya   M  34.0   185.0    96.0   \n",
       "\n",
       "                  Team  NOC        Games  Year  Season            City  \\\n",
       "0                China  CHN  1992 Summer  1992  Summer       Barcelona   \n",
       "1                China  CHN  2012 Summer  2012  Summer          London   \n",
       "2              Denmark  DEN  1920 Summer  1920  Summer       Antwerpen   \n",
       "3       Denmark/Sweden  DEN  1900 Summer  1900  Summer           Paris   \n",
       "4          Netherlands  NED  1988 Winter  1988  Winter         Calgary   \n",
       "...                ...  ...          ...   ...     ...             ...   \n",
       "271111        Poland-1  POL  1976 Winter  1976  Winter       Innsbruck   \n",
       "271112          Poland  POL  2014 Winter  2014  Winter           Sochi   \n",
       "271113          Poland  POL  2014 Winter  2014  Winter           Sochi   \n",
       "271114          Poland  POL  1998 Winter  1998  Winter          Nagano   \n",
       "271115          Poland  POL  2002 Winter  2002  Winter  Salt Lake City   \n",
       "\n",
       "                Sport                                     Event Medal  \n",
       "0          Basketball               Basketball Men's Basketball   NaN  \n",
       "1                Judo              Judo Men's Extra-Lightweight   NaN  \n",
       "2            Football                   Football Men's Football   NaN  \n",
       "3          Tug-Of-War               Tug-Of-War Men's Tug-Of-War  Gold  \n",
       "4       Speed Skating          Speed Skating Women's 500 metres   NaN  \n",
       "...               ...                                       ...   ...  \n",
       "271111           Luge                Luge Mixed (Men)'s Doubles   NaN  \n",
       "271112    Ski Jumping  Ski Jumping Men's Large Hill, Individual   NaN  \n",
       "271113    Ski Jumping        Ski Jumping Men's Large Hill, Team   NaN  \n",
       "271114      Bobsleigh                      Bobsleigh Men's Four   NaN  \n",
       "271115      Bobsleigh                      Bobsleigh Men's Four   NaN  \n",
       "\n",
       "[271116 rows x 15 columns]"
      ]
     },
     "execution_count": 197,
     "metadata": {},
     "output_type": "execute_result"
    }
   ],
   "source": [
    "dfAthlete = pd.read_csv('D:/Учеба/МППП/данные/athlete_events.csv')\n",
    "dfAthlete"
   ]
  },
  {
   "cell_type": "code",
   "execution_count": 198,
   "metadata": {},
   "outputs": [
    {
     "data": {
      "text/plain": [
       "Athletics        38624\n",
       "Gymnastics       26707\n",
       "Swimming         23195\n",
       "Shooting         11448\n",
       "Cycling          10859\n",
       "                 ...  \n",
       "Racquets            12\n",
       "Jeu De Paume        11\n",
       "Roque                4\n",
       "Basque Pelota        2\n",
       "Aeronautics          1\n",
       "Name: Sport, Length: 66, dtype: int64"
      ]
     },
     "execution_count": 198,
     "metadata": {},
     "output_type": "execute_result"
    }
   ],
   "source": [
    "dfAthlete.Sport.value_counts()"
   ]
  },
  {
   "cell_type": "code",
   "execution_count": 199,
   "metadata": {},
   "outputs": [
    {
     "name": "stdout",
     "output_type": "stream",
     "text": [
      "<class 'pandas.core.frame.DataFrame'>\n",
      "RangeIndex: 271116 entries, 0 to 271115\n",
      "Data columns (total 15 columns):\n",
      " #   Column  Non-Null Count   Dtype  \n",
      "---  ------  --------------   -----  \n",
      " 0   ID      271116 non-null  int64  \n",
      " 1   Name    271116 non-null  object \n",
      " 2   Sex     271116 non-null  object \n",
      " 3   Age     261642 non-null  float64\n",
      " 4   Height  210945 non-null  float64\n",
      " 5   Weight  208241 non-null  float64\n",
      " 6   Team    271116 non-null  object \n",
      " 7   NOC     271116 non-null  object \n",
      " 8   Games   271116 non-null  object \n",
      " 9   Year    271116 non-null  int64  \n",
      " 10  Season  271116 non-null  object \n",
      " 11  City    271116 non-null  object \n",
      " 12  Sport   271116 non-null  object \n",
      " 13  Event   271116 non-null  object \n",
      " 14  Medal   39783 non-null   object \n",
      "dtypes: float64(3), int64(2), object(10)\n",
      "memory usage: 31.0+ MB\n"
     ]
    }
   ],
   "source": [
    "dfAthlete.info()"
   ]
  },
  {
   "cell_type": "code",
   "execution_count": 200,
   "metadata": {},
   "outputs": [
    {
     "data": {
      "text/html": [
       "<div>\n",
       "<style scoped>\n",
       "    .dataframe tbody tr th:only-of-type {\n",
       "        vertical-align: middle;\n",
       "    }\n",
       "\n",
       "    .dataframe tbody tr th {\n",
       "        vertical-align: top;\n",
       "    }\n",
       "\n",
       "    .dataframe thead th {\n",
       "        text-align: right;\n",
       "    }\n",
       "</style>\n",
       "<table border=\"1\" class=\"dataframe\">\n",
       "  <thead>\n",
       "    <tr style=\"text-align: right;\">\n",
       "      <th></th>\n",
       "      <th>ID</th>\n",
       "      <th>Name</th>\n",
       "      <th>Sex</th>\n",
       "      <th>Height</th>\n",
       "      <th>Weight</th>\n",
       "      <th>Team</th>\n",
       "      <th>NOC</th>\n",
       "      <th>Season</th>\n",
       "      <th>Sport</th>\n",
       "    </tr>\n",
       "  </thead>\n",
       "  <tbody>\n",
       "    <tr>\n",
       "      <th>0</th>\n",
       "      <td>1</td>\n",
       "      <td>A Dijiang</td>\n",
       "      <td>M</td>\n",
       "      <td>180.0</td>\n",
       "      <td>80.0</td>\n",
       "      <td>China</td>\n",
       "      <td>CHN</td>\n",
       "      <td>Summer</td>\n",
       "      <td>Basketball</td>\n",
       "    </tr>\n",
       "    <tr>\n",
       "      <th>1</th>\n",
       "      <td>2</td>\n",
       "      <td>A Lamusi</td>\n",
       "      <td>M</td>\n",
       "      <td>170.0</td>\n",
       "      <td>60.0</td>\n",
       "      <td>China</td>\n",
       "      <td>CHN</td>\n",
       "      <td>Summer</td>\n",
       "      <td>Judo</td>\n",
       "    </tr>\n",
       "    <tr>\n",
       "      <th>2</th>\n",
       "      <td>3</td>\n",
       "      <td>Gunnar Nielsen Aaby</td>\n",
       "      <td>M</td>\n",
       "      <td>NaN</td>\n",
       "      <td>NaN</td>\n",
       "      <td>Denmark</td>\n",
       "      <td>DEN</td>\n",
       "      <td>Summer</td>\n",
       "      <td>Football</td>\n",
       "    </tr>\n",
       "    <tr>\n",
       "      <th>3</th>\n",
       "      <td>4</td>\n",
       "      <td>Edgar Lindenau Aabye</td>\n",
       "      <td>M</td>\n",
       "      <td>NaN</td>\n",
       "      <td>NaN</td>\n",
       "      <td>Denmark/Sweden</td>\n",
       "      <td>DEN</td>\n",
       "      <td>Summer</td>\n",
       "      <td>Tug-Of-War</td>\n",
       "    </tr>\n",
       "    <tr>\n",
       "      <th>4</th>\n",
       "      <td>5</td>\n",
       "      <td>Christine Jacoba Aaftink</td>\n",
       "      <td>F</td>\n",
       "      <td>185.0</td>\n",
       "      <td>82.0</td>\n",
       "      <td>Netherlands</td>\n",
       "      <td>NED</td>\n",
       "      <td>Winter</td>\n",
       "      <td>Speed Skating</td>\n",
       "    </tr>\n",
       "    <tr>\n",
       "      <th>...</th>\n",
       "      <td>...</td>\n",
       "      <td>...</td>\n",
       "      <td>...</td>\n",
       "      <td>...</td>\n",
       "      <td>...</td>\n",
       "      <td>...</td>\n",
       "      <td>...</td>\n",
       "      <td>...</td>\n",
       "      <td>...</td>\n",
       "    </tr>\n",
       "    <tr>\n",
       "      <th>135566</th>\n",
       "      <td>135567</td>\n",
       "      <td>Aleksandr Viktorovich Zyuzin</td>\n",
       "      <td>M</td>\n",
       "      <td>183.0</td>\n",
       "      <td>72.0</td>\n",
       "      <td>Russia</td>\n",
       "      <td>RUS</td>\n",
       "      <td>Summer</td>\n",
       "      <td>Rowing</td>\n",
       "    </tr>\n",
       "    <tr>\n",
       "      <th>135567</th>\n",
       "      <td>135568</td>\n",
       "      <td>Olga Igorevna Zyuzkova</td>\n",
       "      <td>F</td>\n",
       "      <td>171.0</td>\n",
       "      <td>69.0</td>\n",
       "      <td>Belarus</td>\n",
       "      <td>BLR</td>\n",
       "      <td>Summer</td>\n",
       "      <td>Basketball</td>\n",
       "    </tr>\n",
       "    <tr>\n",
       "      <th>135568</th>\n",
       "      <td>135569</td>\n",
       "      <td>Andrzej ya</td>\n",
       "      <td>M</td>\n",
       "      <td>179.0</td>\n",
       "      <td>89.0</td>\n",
       "      <td>Poland-1</td>\n",
       "      <td>POL</td>\n",
       "      <td>Winter</td>\n",
       "      <td>Luge</td>\n",
       "    </tr>\n",
       "    <tr>\n",
       "      <th>135569</th>\n",
       "      <td>135570</td>\n",
       "      <td>Piotr ya</td>\n",
       "      <td>M</td>\n",
       "      <td>176.0</td>\n",
       "      <td>59.0</td>\n",
       "      <td>Poland</td>\n",
       "      <td>POL</td>\n",
       "      <td>Winter</td>\n",
       "      <td>Ski Jumping</td>\n",
       "    </tr>\n",
       "    <tr>\n",
       "      <th>135570</th>\n",
       "      <td>135571</td>\n",
       "      <td>Tomasz Ireneusz ya</td>\n",
       "      <td>M</td>\n",
       "      <td>185.0</td>\n",
       "      <td>96.0</td>\n",
       "      <td>Poland</td>\n",
       "      <td>POL</td>\n",
       "      <td>Winter</td>\n",
       "      <td>Bobsleigh</td>\n",
       "    </tr>\n",
       "  </tbody>\n",
       "</table>\n",
       "<p>135571 rows × 9 columns</p>\n",
       "</div>"
      ],
      "text/plain": [
       "            ID                          Name Sex  Height  Weight  \\\n",
       "0            1                     A Dijiang   M   180.0    80.0   \n",
       "1            2                      A Lamusi   M   170.0    60.0   \n",
       "2            3           Gunnar Nielsen Aaby   M     NaN     NaN   \n",
       "3            4          Edgar Lindenau Aabye   M     NaN     NaN   \n",
       "4            5      Christine Jacoba Aaftink   F   185.0    82.0   \n",
       "...        ...                           ...  ..     ...     ...   \n",
       "135566  135567  Aleksandr Viktorovich Zyuzin   M   183.0    72.0   \n",
       "135567  135568        Olga Igorevna Zyuzkova   F   171.0    69.0   \n",
       "135568  135569                    Andrzej ya   M   179.0    89.0   \n",
       "135569  135570                      Piotr ya   M   176.0    59.0   \n",
       "135570  135571            Tomasz Ireneusz ya   M   185.0    96.0   \n",
       "\n",
       "                  Team  NOC  Season          Sport  \n",
       "0                China  CHN  Summer     Basketball  \n",
       "1                China  CHN  Summer           Judo  \n",
       "2              Denmark  DEN  Summer       Football  \n",
       "3       Denmark/Sweden  DEN  Summer     Tug-Of-War  \n",
       "4          Netherlands  NED  Winter  Speed Skating  \n",
       "...                ...  ...     ...            ...  \n",
       "135566          Russia  RUS  Summer         Rowing  \n",
       "135567         Belarus  BLR  Summer     Basketball  \n",
       "135568        Poland-1  POL  Winter           Luge  \n",
       "135569          Poland  POL  Winter    Ski Jumping  \n",
       "135570          Poland  POL  Winter      Bobsleigh  \n",
       "\n",
       "[135571 rows x 9 columns]"
      ]
     },
     "execution_count": 200,
     "metadata": {},
     "output_type": "execute_result"
    }
   ],
   "source": [
    "un = dfAthlete.copy()\n",
    "un = un.drop_duplicates(subset='ID').reset_index()\n",
    "un = un.drop(['index'],axis=1)\n",
    "un = un[['ID','Name','Sex','Height','Weight','Team','NOC','Season','Sport']]\n",
    "un"
   ]
  },
  {
   "cell_type": "code",
   "execution_count": 201,
   "metadata": {},
   "outputs": [
    {
     "name": "stdout",
     "output_type": "stream",
     "text": [
      "Всего во всех олимпиадах (данные по которым имеются) приняло участие 135571 спортсмена.\n"
     ]
    }
   ],
   "source": [
    "print('Всего во всех олимпиадах (данные по которым имеются) приняло участие',len(un), 'спортсмена.')"
   ]
  },
  {
   "cell_type": "code",
   "execution_count": 202,
   "metadata": {},
   "outputs": [
    {
     "data": {
      "image/png": "[encoded data removed]",
      "text/plain": [
       "<Figure size 432x288 with 1 Axes>"
      ]
     },
     "metadata": {
      "needs_background": "light"
     },
     "output_type": "display_data"
    }
   ],
   "source": [
    "un['Sex'].value_counts().plot.bar(color=['b','r'], title='Количество мужчин и женщин на Олимпиадах');"
   ]
  },
  {
   "cell_type": "markdown",
   "metadata": {},
   "source": [
    "На столбчатой диаграмме выше видно, что почти втрое больше мужчин за все время принимало участие в олимпиадах, чем женщин. Скорее всего это вызвано чуть больше популиризацией мужского спорта и большего количество исключительно мужсикх видов спорта."
   ]
  },
  {
   "cell_type": "code",
   "execution_count": 203,
   "metadata": {},
   "outputs": [
    {
     "data": {
      "image/png": "[encoded data removed]",
      "text/plain": [
       "<Figure size 432x288 with 1 Axes>"
      ]
     },
     "metadata": {
      "needs_background": "light"
     },
     "output_type": "display_data"
    }
   ],
   "source": [
    "sports = un.groupby('Sport').size().sort_values(ascending=False).head(5)\n",
    "sports.plot.bar(title='Виды спорта по числу участников', color ='k');"
   ]
  },
  {
   "cell_type": "markdown",
   "metadata": {},
   "source": [
    "Из диаграммы становится очевидно, что наибольшее число спортсменов приняло участие в соревнованиях по легкой атлетике. Количество участников в этих соревнованиях в 2,5 раза превосходит второй по популярности вид спорта - плавание. Это объясняется огросным количеством дисцирлин и многолетней истории этого вида спорта."
   ]
  },
  {
   "cell_type": "code",
   "execution_count": 204,
   "metadata": {},
   "outputs": [
    {
     "data": {
      "text/html": [
       "<div>\n",
       "<style scoped>\n",
       "    .dataframe tbody tr th:only-of-type {\n",
       "        vertical-align: middle;\n",
       "    }\n",
       "\n",
       "    .dataframe tbody tr th {\n",
       "        vertical-align: top;\n",
       "    }\n",
       "\n",
       "    .dataframe thead th {\n",
       "        text-align: right;\n",
       "    }\n",
       "</style>\n",
       "<table border=\"1\" class=\"dataframe\">\n",
       "  <thead>\n",
       "    <tr style=\"text-align: right;\">\n",
       "      <th></th>\n",
       "      <th>ID</th>\n",
       "      <th>Name</th>\n",
       "      <th>Sex</th>\n",
       "      <th>Age</th>\n",
       "      <th>Height</th>\n",
       "      <th>Weight</th>\n",
       "      <th>Team</th>\n",
       "      <th>NOC</th>\n",
       "      <th>Games</th>\n",
       "      <th>Year</th>\n",
       "      <th>Season</th>\n",
       "      <th>City</th>\n",
       "      <th>Sport</th>\n",
       "      <th>Event</th>\n",
       "      <th>Medal</th>\n",
       "      <th>Bronze</th>\n",
       "      <th>Gold</th>\n",
       "      <th>Silver</th>\n",
       "      <th>Prizewinner</th>\n",
       "    </tr>\n",
       "  </thead>\n",
       "  <tbody>\n",
       "    <tr>\n",
       "      <th>0</th>\n",
       "      <td>1</td>\n",
       "      <td>A Dijiang</td>\n",
       "      <td>M</td>\n",
       "      <td>24.0</td>\n",
       "      <td>180.0</td>\n",
       "      <td>80.0</td>\n",
       "      <td>China</td>\n",
       "      <td>CHN</td>\n",
       "      <td>1992 Summer</td>\n",
       "      <td>1992</td>\n",
       "      <td>Summer</td>\n",
       "      <td>Barcelona</td>\n",
       "      <td>Basketball</td>\n",
       "      <td>Basketball Men's Basketball</td>\n",
       "      <td>NaN</td>\n",
       "      <td>0</td>\n",
       "      <td>0</td>\n",
       "      <td>0</td>\n",
       "      <td>0</td>\n",
       "    </tr>\n",
       "    <tr>\n",
       "      <th>1</th>\n",
       "      <td>2</td>\n",
       "      <td>A Lamusi</td>\n",
       "      <td>M</td>\n",
       "      <td>23.0</td>\n",
       "      <td>170.0</td>\n",
       "      <td>60.0</td>\n",
       "      <td>China</td>\n",
       "      <td>CHN</td>\n",
       "      <td>2012 Summer</td>\n",
       "      <td>2012</td>\n",
       "      <td>Summer</td>\n",
       "      <td>London</td>\n",
       "      <td>Judo</td>\n",
       "      <td>Judo Men's Extra-Lightweight</td>\n",
       "      <td>NaN</td>\n",
       "      <td>0</td>\n",
       "      <td>0</td>\n",
       "      <td>0</td>\n",
       "      <td>0</td>\n",
       "    </tr>\n",
       "    <tr>\n",
       "      <th>2</th>\n",
       "      <td>3</td>\n",
       "      <td>Gunnar Nielsen Aaby</td>\n",
       "      <td>M</td>\n",
       "      <td>24.0</td>\n",
       "      <td>NaN</td>\n",
       "      <td>NaN</td>\n",
       "      <td>Denmark</td>\n",
       "      <td>DEN</td>\n",
       "      <td>1920 Summer</td>\n",
       "      <td>1920</td>\n",
       "      <td>Summer</td>\n",
       "      <td>Antwerpen</td>\n",
       "      <td>Football</td>\n",
       "      <td>Football Men's Football</td>\n",
       "      <td>NaN</td>\n",
       "      <td>0</td>\n",
       "      <td>0</td>\n",
       "      <td>0</td>\n",
       "      <td>0</td>\n",
       "    </tr>\n",
       "    <tr>\n",
       "      <th>3</th>\n",
       "      <td>4</td>\n",
       "      <td>Edgar Lindenau Aabye</td>\n",
       "      <td>M</td>\n",
       "      <td>34.0</td>\n",
       "      <td>NaN</td>\n",
       "      <td>NaN</td>\n",
       "      <td>Denmark/Sweden</td>\n",
       "      <td>DEN</td>\n",
       "      <td>1900 Summer</td>\n",
       "      <td>1900</td>\n",
       "      <td>Summer</td>\n",
       "      <td>Paris</td>\n",
       "      <td>Tug-Of-War</td>\n",
       "      <td>Tug-Of-War Men's Tug-Of-War</td>\n",
       "      <td>Gold</td>\n",
       "      <td>0</td>\n",
       "      <td>1</td>\n",
       "      <td>0</td>\n",
       "      <td>1</td>\n",
       "    </tr>\n",
       "    <tr>\n",
       "      <th>4</th>\n",
       "      <td>5</td>\n",
       "      <td>Christine Jacoba Aaftink</td>\n",
       "      <td>F</td>\n",
       "      <td>21.0</td>\n",
       "      <td>185.0</td>\n",
       "      <td>82.0</td>\n",
       "      <td>Netherlands</td>\n",
       "      <td>NED</td>\n",
       "      <td>1988 Winter</td>\n",
       "      <td>1988</td>\n",
       "      <td>Winter</td>\n",
       "      <td>Calgary</td>\n",
       "      <td>Speed Skating</td>\n",
       "      <td>Speed Skating Women's 500 metres</td>\n",
       "      <td>NaN</td>\n",
       "      <td>0</td>\n",
       "      <td>0</td>\n",
       "      <td>0</td>\n",
       "      <td>0</td>\n",
       "    </tr>\n",
       "  </tbody>\n",
       "</table>\n",
       "</div>"
      ],
      "text/plain": [
       "   ID                      Name Sex   Age  Height  Weight            Team  \\\n",
       "0   1                 A Dijiang   M  24.0   180.0    80.0           China   \n",
       "1   2                  A Lamusi   M  23.0   170.0    60.0           China   \n",
       "2   3       Gunnar Nielsen Aaby   M  24.0     NaN     NaN         Denmark   \n",
       "3   4      Edgar Lindenau Aabye   M  34.0     NaN     NaN  Denmark/Sweden   \n",
       "4   5  Christine Jacoba Aaftink   F  21.0   185.0    82.0     Netherlands   \n",
       "\n",
       "   NOC        Games  Year  Season       City          Sport  \\\n",
       "0  CHN  1992 Summer  1992  Summer  Barcelona     Basketball   \n",
       "1  CHN  2012 Summer  2012  Summer     London           Judo   \n",
       "2  DEN  1920 Summer  1920  Summer  Antwerpen       Football   \n",
       "3  DEN  1900 Summer  1900  Summer      Paris     Tug-Of-War   \n",
       "4  NED  1988 Winter  1988  Winter    Calgary  Speed Skating   \n",
       "\n",
       "                              Event Medal  Bronze  Gold  Silver  Prizewinner  \n",
       "0       Basketball Men's Basketball   NaN       0     0       0            0  \n",
       "1      Judo Men's Extra-Lightweight   NaN       0     0       0            0  \n",
       "2           Football Men's Football   NaN       0     0       0            0  \n",
       "3       Tug-Of-War Men's Tug-Of-War  Gold       0     1       0            1  \n",
       "4  Speed Skating Women's 500 metres   NaN       0     0       0            0  "
      ]
     },
     "execution_count": 204,
     "metadata": {},
     "output_type": "execute_result"
    }
   ],
   "source": [
    "#Создаем отдельный столбец Prizewinner, который отражает медали любого качества (золото, серебро, бронза)\n",
    "data1 = dfAthlete.copy()\n",
    "data1 = pd.get_dummies(data1['Medal'])\n",
    "data1 = pd.concat([dfAthlete, data1], axis =1)\n",
    "data1['Prizewinner'] = data1.Bronze + data1.Gold + data1.Silver\n",
    "data1.head()"
   ]
  },
  {
   "cell_type": "code",
   "execution_count": 205,
   "metadata": {},
   "outputs": [
    {
     "data": {
      "text/html": [
       "<div>\n",
       "<style scoped>\n",
       "    .dataframe tbody tr th:only-of-type {\n",
       "        vertical-align: middle;\n",
       "    }\n",
       "\n",
       "    .dataframe tbody tr th {\n",
       "        vertical-align: top;\n",
       "    }\n",
       "\n",
       "    .dataframe thead th {\n",
       "        text-align: right;\n",
       "    }\n",
       "</style>\n",
       "<table border=\"1\" class=\"dataframe\">\n",
       "  <thead>\n",
       "    <tr style=\"text-align: right;\">\n",
       "      <th></th>\n",
       "      <th>Prizewinner</th>\n",
       "      <th>Bronze</th>\n",
       "      <th>Gold</th>\n",
       "      <th>Silver</th>\n",
       "    </tr>\n",
       "    <tr>\n",
       "      <th>NOC</th>\n",
       "      <th></th>\n",
       "      <th></th>\n",
       "      <th></th>\n",
       "      <th></th>\n",
       "    </tr>\n",
       "  </thead>\n",
       "  <tbody>\n",
       "    <tr>\n",
       "      <th>USA</th>\n",
       "      <td>5637</td>\n",
       "      <td>1358</td>\n",
       "      <td>2638</td>\n",
       "      <td>1641</td>\n",
       "    </tr>\n",
       "    <tr>\n",
       "      <th>URS</th>\n",
       "      <td>2503</td>\n",
       "      <td>689</td>\n",
       "      <td>1082</td>\n",
       "      <td>732</td>\n",
       "    </tr>\n",
       "    <tr>\n",
       "      <th>GER</th>\n",
       "      <td>2165</td>\n",
       "      <td>746</td>\n",
       "      <td>745</td>\n",
       "      <td>674</td>\n",
       "    </tr>\n",
       "    <tr>\n",
       "      <th>GBR</th>\n",
       "      <td>2068</td>\n",
       "      <td>651</td>\n",
       "      <td>678</td>\n",
       "      <td>739</td>\n",
       "    </tr>\n",
       "    <tr>\n",
       "      <th>FRA</th>\n",
       "      <td>1777</td>\n",
       "      <td>666</td>\n",
       "      <td>501</td>\n",
       "      <td>610</td>\n",
       "    </tr>\n",
       "    <tr>\n",
       "      <th>ITA</th>\n",
       "      <td>1637</td>\n",
       "      <td>531</td>\n",
       "      <td>575</td>\n",
       "      <td>531</td>\n",
       "    </tr>\n",
       "    <tr>\n",
       "      <th>SWE</th>\n",
       "      <td>1536</td>\n",
       "      <td>535</td>\n",
       "      <td>479</td>\n",
       "      <td>522</td>\n",
       "    </tr>\n",
       "    <tr>\n",
       "      <th>CAN</th>\n",
       "      <td>1352</td>\n",
       "      <td>451</td>\n",
       "      <td>463</td>\n",
       "      <td>438</td>\n",
       "    </tr>\n",
       "    <tr>\n",
       "      <th>AUS</th>\n",
       "      <td>1320</td>\n",
       "      <td>517</td>\n",
       "      <td>348</td>\n",
       "      <td>455</td>\n",
       "    </tr>\n",
       "    <tr>\n",
       "      <th>RUS</th>\n",
       "      <td>1165</td>\n",
       "      <td>408</td>\n",
       "      <td>390</td>\n",
       "      <td>367</td>\n",
       "    </tr>\n",
       "  </tbody>\n",
       "</table>\n",
       "</div>"
      ],
      "text/plain": [
       "     Prizewinner  Bronze  Gold  Silver\n",
       "NOC                                   \n",
       "USA         5637    1358  2638    1641\n",
       "URS         2503     689  1082     732\n",
       "GER         2165     746   745     674\n",
       "GBR         2068     651   678     739\n",
       "FRA         1777     666   501     610\n",
       "ITA         1637     531   575     531\n",
       "SWE         1536     535   479     522\n",
       "CAN         1352     451   463     438\n",
       "AUS         1320     517   348     455\n",
       "RUS         1165     408   390     367"
      ]
     },
     "execution_count": 205,
     "metadata": {},
     "output_type": "execute_result"
    }
   ],
   "source": [
    "# Рейтинг стран по общему количеству призовых мест (без с учета распада союза и соединения ГДР и ФРГ)\n",
    "pw = (data1.groupby('NOC').agg({'Prizewinner':'sum','Bronze':'sum','Gold':'sum','Silver':'sum'}).astype(int)\n",
    "      .sort_values(by = 'Prizewinner', ascending = False))\n",
    "pw.head(10)\n"
   ]
  },
  {
   "cell_type": "code",
   "execution_count": 206,
   "metadata": {},
   "outputs": [
    {
     "data": {
      "image/png": "[encoded data removed]",
      "text/plain": [
       "<Figure size 432x288 with 1 Axes>"
      ]
     },
     "metadata": {
      "needs_background": "light"
     },
     "output_type": "display_data"
    }
   ],
   "source": [
    "top5 = pw.head(5)[['Bronze','Gold','Silver']]\n",
    "top5.plot.barh(stacked=True, color=['peru','gold','silver']);"
   ]
  },
  {
   "cell_type": "markdown",
   "metadata": {},
   "source": [
    "Диаграмма демонстрирует доли медалей каждого качества в общей их сумме у ТОП 5 стран по общему количеству медалей. По диаграмме видно, что США лидирует более чем в 2 раза как по общему количеству медалей, так и по кол-ву золотых. Также у США доля золотых медалей более 50% (от суммы всех медалей США). На 2-5 местах расположены сборные СССР, Германии, Великобритании и Франции (с небольшим разрывов как видно из диаграммы). "
   ]
  },
  {
   "cell_type": "code",
   "execution_count": 207,
   "metadata": {},
   "outputs": [
    {
     "data": {
      "image/png": "[encoded data removed]",
      "text/plain": [
       "<Figure size 432x288 with 1 Axes>"
      ]
     },
     "metadata": {},
     "output_type": "display_data"
    }
   ],
   "source": [
    "plot1 = pw.Prizewinner.head(5).plot(kind=\"pie\",autopct='%1.1f%%', title = 'Доля призовых мест в Топ 5 стран')\n",
    "plot1.set_ylabel('');"
   ]
  },
  {
   "cell_type": "markdown",
   "metadata": {},
   "source": [
    "На диаграмме выше отображены доли медалей стран в ТОП 5 стран по общему количеству медалаей. На графике еще более наглядно показано доминирование сборной США. Доля их медалей в ТОП 5 - почти 40%, при том, что у остальных 4 стран в сумме доля - оставшиеся 60%."
   ]
  },
  {
   "cell_type": "code",
   "execution_count": 208,
   "metadata": {},
   "outputs": [
    {
     "data": {
      "text/plain": [
       "NOC\n",
       "USA    14.2\n",
       "URS     6.3\n",
       "GER     5.4\n",
       "GBR     5.2\n",
       "FRA     4.5\n",
       "Name: Total medal share, dtype: float64"
      ]
     },
     "execution_count": 208,
     "metadata": {},
     "output_type": "execute_result"
    }
   ],
   "source": [
    "#Найдем долю их медалей от общего количества:\n",
    "pw['Total medal share']=(0)\n",
    "for i in range(0,6):\n",
    "    pw.iloc[i,4] = round(pw.iloc[i,0]/pw.Prizewinner.sum()*100,1)\n",
    "pws = pw['Total medal share'].head(5)\n",
    "pws"
   ]
  },
  {
   "cell_type": "markdown",
   "metadata": {},
   "source": [
    "Из таблицы выше видно, что более 14% всех медалей у сборной США, от 4,5 % до 6,3 % от общего числа медалей у остальных стран ТОП 5."
   ]
  },
  {
   "cell_type": "code",
   "execution_count": 209,
   "metadata": {},
   "outputs": [
    {
     "data": {
      "text/html": [
       "<div>\n",
       "<style scoped>\n",
       "    .dataframe tbody tr th:only-of-type {\n",
       "        vertical-align: middle;\n",
       "    }\n",
       "\n",
       "    .dataframe tbody tr th {\n",
       "        vertical-align: top;\n",
       "    }\n",
       "\n",
       "    .dataframe thead th {\n",
       "        text-align: right;\n",
       "    }\n",
       "</style>\n",
       "<table border=\"1\" class=\"dataframe\">\n",
       "  <thead>\n",
       "    <tr style=\"text-align: right;\">\n",
       "      <th></th>\n",
       "      <th>Prizewinner</th>\n",
       "      <th>Bronze</th>\n",
       "      <th>Gold</th>\n",
       "      <th>Silver</th>\n",
       "    </tr>\n",
       "  </thead>\n",
       "  <tbody>\n",
       "    <tr>\n",
       "      <th>USA</th>\n",
       "      <td>5637</td>\n",
       "      <td>1358</td>\n",
       "      <td>2638</td>\n",
       "      <td>1641</td>\n",
       "    </tr>\n",
       "    <tr>\n",
       "      <th>GER/GDR/FRG</th>\n",
       "      <td>3756</td>\n",
       "      <td>1260</td>\n",
       "      <td>1301</td>\n",
       "      <td>1195</td>\n",
       "    </tr>\n",
       "    <tr>\n",
       "      <th>RUS/URS</th>\n",
       "      <td>3668</td>\n",
       "      <td>1097</td>\n",
       "      <td>1472</td>\n",
       "      <td>1099</td>\n",
       "    </tr>\n",
       "    <tr>\n",
       "      <th>GBR</th>\n",
       "      <td>2068</td>\n",
       "      <td>651</td>\n",
       "      <td>678</td>\n",
       "      <td>739</td>\n",
       "    </tr>\n",
       "    <tr>\n",
       "      <th>FRA</th>\n",
       "      <td>1777</td>\n",
       "      <td>666</td>\n",
       "      <td>501</td>\n",
       "      <td>610</td>\n",
       "    </tr>\n",
       "    <tr>\n",
       "      <th>ITA</th>\n",
       "      <td>1637</td>\n",
       "      <td>531</td>\n",
       "      <td>575</td>\n",
       "      <td>531</td>\n",
       "    </tr>\n",
       "    <tr>\n",
       "      <th>SWE</th>\n",
       "      <td>1536</td>\n",
       "      <td>535</td>\n",
       "      <td>479</td>\n",
       "      <td>522</td>\n",
       "    </tr>\n",
       "    <tr>\n",
       "      <th>CAN</th>\n",
       "      <td>1352</td>\n",
       "      <td>451</td>\n",
       "      <td>463</td>\n",
       "      <td>438</td>\n",
       "    </tr>\n",
       "    <tr>\n",
       "      <th>AUS</th>\n",
       "      <td>1320</td>\n",
       "      <td>517</td>\n",
       "      <td>348</td>\n",
       "      <td>455</td>\n",
       "    </tr>\n",
       "    <tr>\n",
       "      <th>HUN</th>\n",
       "      <td>1135</td>\n",
       "      <td>371</td>\n",
       "      <td>432</td>\n",
       "      <td>332</td>\n",
       "    </tr>\n",
       "  </tbody>\n",
       "</table>\n",
       "</div>"
      ],
      "text/plain": [
       "             Prizewinner  Bronze  Gold  Silver\n",
       "USA                 5637    1358  2638    1641\n",
       "GER/GDR/FRG         3756    1260  1301    1195\n",
       "RUS/URS             3668    1097  1472    1099\n",
       "GBR                 2068     651   678     739\n",
       "FRA                 1777     666   501     610\n",
       "ITA                 1637     531   575     531\n",
       "SWE                 1536     535   479     522\n",
       "CAN                 1352     451   463     438\n",
       "AUS                 1320     517   348     455\n",
       "HUN                 1135     371   432     332"
      ]
     },
     "execution_count": 209,
     "metadata": {},
     "output_type": "execute_result"
    }
   ],
   "source": [
    "#Рейтинг стран по общему количеству призовых мест (с учетом распада союза и соединения ГДР и ФРГ)\n",
    "dfpw = (data1.groupby('NOC').agg({'Prizewinner':'sum','Bronze':'sum','Gold':'sum','Silver':'sum'}).astype(int)\n",
    "        .sort_values(by = 'Prizewinner', ascending = False))\n",
    "d1 = pd.DataFrame()\n",
    "d1['RUS/URS'] = dfpw.loc['RUS'] + dfpw.loc['URS']\n",
    "d1['GER/GDR/FRG'] = dfpw.loc['GER'] + dfpw.loc['GDR'] + dfpw.loc['FRG']\n",
    "dfpw = dfpw.append(d1.T).sort_values(by=['Prizewinner'], ascending=False)\n",
    "dfpw2 = dfpw.drop(['RUS','URS','GER','FRG','GDR'])\n",
    "dfpw2.head(10)"
   ]
  },
  {
   "cell_type": "code",
   "execution_count": 210,
   "metadata": {},
   "outputs": [
    {
     "data": {
      "image/png": "[encoded data removed]",
      "text/plain": [
       "<Figure size 432x288 with 1 Axes>"
      ]
     },
     "metadata": {},
     "output_type": "display_data"
    }
   ],
   "source": [
    "plot2 = dfpw2.Prizewinner.head(5).plot(kind=\"pie\",autopct='%1.1f%%', title = 'Доля призовых мест в Топ 5 стран')\n",
    "plot2.set_ylabel('');"
   ]
  },
  {
   "cell_type": "markdown",
   "metadata": {},
   "source": [
    "При объединении медалей СССР и России, а также ГДР, ФРГ и Германии, ситуация неменого меняется. США остается на верхней строчке, однако не со столь большим преимуществом. Суммарно сборные ГДР, ФРГ и Германии на 0,5% обошли СССР/Россию по доле медалей в ТОП5 стран-призер Олимпиад."
   ]
  },
  {
   "cell_type": "code",
   "execution_count": 211,
   "metadata": {},
   "outputs": [],
   "source": [
    "# Лучшие спортсмены в личном зачете (по общему количеству медалей всех достоинств)\n",
    "data3 = data1[['Name', 'Sex', 'Team', 'NOC','Sport', 'Bronze','Gold', 'Silver','Prizewinner']]\n",
    "bs = data3.groupby(['Name','Sex','Team','NOC','Sport'])\n",
    "bs10 = bs.sum().sort_values(by = 'Prizewinner', ascending = False).head(10)"
   ]
  },
  {
   "cell_type": "code",
   "execution_count": 212,
   "metadata": {},
   "outputs": [
    {
     "data": {
      "image/png": "[encoded data removed]",
      "text/plain": [
       "<Figure size 432x288 with 1 Axes>"
      ]
     },
     "metadata": {
      "needs_background": "light"
     },
     "output_type": "display_data"
    }
   ],
   "source": [
    "bs10.head(5).plot.barh(color=['peru','gold','silver','r'],title='Рекордсмены по количеству медалей');"
   ]
  },
  {
   "cell_type": "markdown",
   "metadata": {},
   "source": [
    "На диаграмме выше представлены рекордсмены по количеству медалей на всех Олимпийских играх. Абсолютный рекордсмен - Майкл Фелпс из Сша. Он лидирует как по общему числу призовых мест, так и по количеству первых мест с большим отрывом. Нельзя не отметить Советских гимнастов, которые расположились на 2-4 местах."
   ]
  },
  {
   "cell_type": "code",
   "execution_count": 213,
   "metadata": {},
   "outputs": [],
   "source": [
    "# Лучшие спортсмены в личном зачете среди СССР и России (по общему количеству медалей всех достоинств)\n",
    "data4 =  (data1[(data1.NOC=='URS') | (data1.NOC=='RUS')] \n",
    "          [['Name', 'Sex', 'Team', 'NOC','Sport', 'Bronze','Gold', 'Silver','Prizewinner']])\n",
    "bsr = data4.groupby(['Name','Sex','Team','NOC','Sport'])\n",
    "bsr10 = bsr.sum().sort_values(by = 'Prizewinner', ascending = False).head(10)"
   ]
  },
  {
   "cell_type": "code",
   "execution_count": 214,
   "metadata": {},
   "outputs": [
    {
     "data": {
      "image/png": "[encoded data removed]",
      "text/plain": [
       "<Figure size 432x288 with 1 Axes>"
      ]
     },
     "metadata": {
      "needs_background": "light"
     },
     "output_type": "display_data"
    }
   ],
   "source": [
    "bsr10.head(5).plot.barh(color=['peru','gold','silver','r'], title='Рекордсмены по количеству медалей в СССР и России');"
   ]
  },
  {
   "cell_type": "markdown",
   "metadata": {},
   "source": [
    "Лидеры среди российских и советских медалистов за всем время. Все спортсмены являются гимнастами. "
   ]
  },
  {
   "cell_type": "code",
   "execution_count": 215,
   "metadata": {},
   "outputs": [
    {
     "data": {
      "text/html": [
       "<div>\n",
       "<style scoped>\n",
       "    .dataframe tbody tr th:only-of-type {\n",
       "        vertical-align: middle;\n",
       "    }\n",
       "\n",
       "    .dataframe tbody tr th {\n",
       "        vertical-align: top;\n",
       "    }\n",
       "\n",
       "    .dataframe thead th {\n",
       "        text-align: right;\n",
       "    }\n",
       "</style>\n",
       "<table border=\"1\" class=\"dataframe\">\n",
       "  <thead>\n",
       "    <tr style=\"text-align: right;\">\n",
       "      <th></th>\n",
       "      <th></th>\n",
       "      <th></th>\n",
       "      <th></th>\n",
       "      <th></th>\n",
       "      <th>Bronze</th>\n",
       "      <th>Gold</th>\n",
       "      <th>Silver</th>\n",
       "      <th>Prizewinner</th>\n",
       "    </tr>\n",
       "    <tr>\n",
       "      <th>Name</th>\n",
       "      <th>Sex</th>\n",
       "      <th>Team</th>\n",
       "      <th>NOC</th>\n",
       "      <th>Sport</th>\n",
       "      <th></th>\n",
       "      <th></th>\n",
       "      <th></th>\n",
       "      <th></th>\n",
       "    </tr>\n",
       "  </thead>\n",
       "  <tbody>\n",
       "    <tr>\n",
       "      <th>Aleksey Yuryevich Nemov</th>\n",
       "      <th>M</th>\n",
       "      <th>Russia</th>\n",
       "      <th>RUS</th>\n",
       "      <th>Gymnastics</th>\n",
       "      <td>6</td>\n",
       "      <td>4</td>\n",
       "      <td>2</td>\n",
       "      <td>12</td>\n",
       "    </tr>\n",
       "    <tr>\n",
       "      <th>Svetlana Vasilyevna Khorkina</th>\n",
       "      <th>F</th>\n",
       "      <th>Russia</th>\n",
       "      <th>RUS</th>\n",
       "      <th>Gymnastics</th>\n",
       "      <td>1</td>\n",
       "      <td>2</td>\n",
       "      <td>4</td>\n",
       "      <td>7</td>\n",
       "    </tr>\n",
       "    <tr>\n",
       "      <th>Aliya Farkhatovna Mustafina</th>\n",
       "      <th>F</th>\n",
       "      <th>Russia</th>\n",
       "      <th>RUS</th>\n",
       "      <th>Gymnastics</th>\n",
       "      <td>3</td>\n",
       "      <td>2</td>\n",
       "      <td>2</td>\n",
       "      <td>7</td>\n",
       "    </tr>\n",
       "    <tr>\n",
       "      <th>Dmitry Ivanovich Sautin</th>\n",
       "      <th>M</th>\n",
       "      <th>Russia</th>\n",
       "      <th>RUS</th>\n",
       "      <th>Diving</th>\n",
       "      <td>3</td>\n",
       "      <td>2</td>\n",
       "      <td>2</td>\n",
       "      <td>7</td>\n",
       "    </tr>\n",
       "    <tr>\n",
       "      <th>Yuliya Anatolyevna Chepalova</th>\n",
       "      <th>F</th>\n",
       "      <th>Russia</th>\n",
       "      <th>RUS</th>\n",
       "      <th>Cross Country Skiing</th>\n",
       "      <td>1</td>\n",
       "      <td>3</td>\n",
       "      <td>2</td>\n",
       "      <td>6</td>\n",
       "    </tr>\n",
       "    <tr>\n",
       "      <th>Larisa Yevgenyevna Lazutina (Ptitsyna-)</th>\n",
       "      <th>F</th>\n",
       "      <th>Russia</th>\n",
       "      <th>RUS</th>\n",
       "      <th>Cross Country Skiing</th>\n",
       "      <td>1</td>\n",
       "      <td>4</td>\n",
       "      <td>1</td>\n",
       "      <td>6</td>\n",
       "    </tr>\n",
       "    <tr>\n",
       "      <th>Svetlana Alekseyevna Romashina</th>\n",
       "      <th>F</th>\n",
       "      <th>Russia</th>\n",
       "      <th>RUS</th>\n",
       "      <th>Synchronized Swimming</th>\n",
       "      <td>0</td>\n",
       "      <td>5</td>\n",
       "      <td>0</td>\n",
       "      <td>5</td>\n",
       "    </tr>\n",
       "    <tr>\n",
       "      <th>Tatyana Romanovna Lebedeva</th>\n",
       "      <th>F</th>\n",
       "      <th>Russia</th>\n",
       "      <th>RUS</th>\n",
       "      <th>Athletics</th>\n",
       "      <td>1</td>\n",
       "      <td>1</td>\n",
       "      <td>3</td>\n",
       "      <td>5</td>\n",
       "    </tr>\n",
       "    <tr>\n",
       "      <th>Albina Khamitovna Akhatova</th>\n",
       "      <th>F</th>\n",
       "      <th>Russia</th>\n",
       "      <th>RUS</th>\n",
       "      <th>Biathlon</th>\n",
       "      <td>3</td>\n",
       "      <td>1</td>\n",
       "      <td>1</td>\n",
       "      <td>5</td>\n",
       "    </tr>\n",
       "    <tr>\n",
       "      <th>Yuliya Vladimirovna Pakhalina</th>\n",
       "      <th>F</th>\n",
       "      <th>Russia</th>\n",
       "      <th>RUS</th>\n",
       "      <th>Diving</th>\n",
       "      <td>1</td>\n",
       "      <td>1</td>\n",
       "      <td>3</td>\n",
       "      <td>5</td>\n",
       "    </tr>\n",
       "  </tbody>\n",
       "</table>\n",
       "</div>"
      ],
      "text/plain": [
       "                                                                              Bronze  \\\n",
       "Name                                    Sex Team   NOC Sport                           \n",
       "Aleksey Yuryevich Nemov                 M   Russia RUS Gymnastics                  6   \n",
       "Svetlana Vasilyevna Khorkina            F   Russia RUS Gymnastics                  1   \n",
       "Aliya Farkhatovna Mustafina             F   Russia RUS Gymnastics                  3   \n",
       "Dmitry Ivanovich Sautin                 M   Russia RUS Diving                      3   \n",
       "Yuliya Anatolyevna Chepalova            F   Russia RUS Cross Country Skiing        1   \n",
       "Larisa Yevgenyevna Lazutina (Ptitsyna-) F   Russia RUS Cross Country Skiing        1   \n",
       "Svetlana Alekseyevna Romashina          F   Russia RUS Synchronized Swimming       0   \n",
       "Tatyana Romanovna Lebedeva              F   Russia RUS Athletics                   1   \n",
       "Albina Khamitovna Akhatova              F   Russia RUS Biathlon                    3   \n",
       "Yuliya Vladimirovna Pakhalina           F   Russia RUS Diving                      1   \n",
       "\n",
       "                                                                              Gold  \\\n",
       "Name                                    Sex Team   NOC Sport                         \n",
       "Aleksey Yuryevich Nemov                 M   Russia RUS Gymnastics                4   \n",
       "Svetlana Vasilyevna Khorkina            F   Russia RUS Gymnastics                2   \n",
       "Aliya Farkhatovna Mustafina             F   Russia RUS Gymnastics                2   \n",
       "Dmitry Ivanovich Sautin                 M   Russia RUS Diving                    2   \n",
       "Yuliya Anatolyevna Chepalova            F   Russia RUS Cross Country Skiing      3   \n",
       "Larisa Yevgenyevna Lazutina (Ptitsyna-) F   Russia RUS Cross Country Skiing      4   \n",
       "Svetlana Alekseyevna Romashina          F   Russia RUS Synchronized Swimming     5   \n",
       "Tatyana Romanovna Lebedeva              F   Russia RUS Athletics                 1   \n",
       "Albina Khamitovna Akhatova              F   Russia RUS Biathlon                  1   \n",
       "Yuliya Vladimirovna Pakhalina           F   Russia RUS Diving                    1   \n",
       "\n",
       "                                                                              Silver  \\\n",
       "Name                                    Sex Team   NOC Sport                           \n",
       "Aleksey Yuryevich Nemov                 M   Russia RUS Gymnastics                  2   \n",
       "Svetlana Vasilyevna Khorkina            F   Russia RUS Gymnastics                  4   \n",
       "Aliya Farkhatovna Mustafina             F   Russia RUS Gymnastics                  2   \n",
       "Dmitry Ivanovich Sautin                 M   Russia RUS Diving                      2   \n",
       "Yuliya Anatolyevna Chepalova            F   Russia RUS Cross Country Skiing        2   \n",
       "Larisa Yevgenyevna Lazutina (Ptitsyna-) F   Russia RUS Cross Country Skiing        1   \n",
       "Svetlana Alekseyevna Romashina          F   Russia RUS Synchronized Swimming       0   \n",
       "Tatyana Romanovna Lebedeva              F   Russia RUS Athletics                   3   \n",
       "Albina Khamitovna Akhatova              F   Russia RUS Biathlon                    1   \n",
       "Yuliya Vladimirovna Pakhalina           F   Russia RUS Diving                      3   \n",
       "\n",
       "                                                                              Prizewinner  \n",
       "Name                                    Sex Team   NOC Sport                               \n",
       "Aleksey Yuryevich Nemov                 M   Russia RUS Gymnastics                      12  \n",
       "Svetlana Vasilyevna Khorkina            F   Russia RUS Gymnastics                       7  \n",
       "Aliya Farkhatovna Mustafina             F   Russia RUS Gymnastics                       7  \n",
       "Dmitry Ivanovich Sautin                 M   Russia RUS Diving                           7  \n",
       "Yuliya Anatolyevna Chepalova            F   Russia RUS Cross Country Skiing             6  \n",
       "Larisa Yevgenyevna Lazutina (Ptitsyna-) F   Russia RUS Cross Country Skiing             6  \n",
       "Svetlana Alekseyevna Romashina          F   Russia RUS Synchronized Swimming            5  \n",
       "Tatyana Romanovna Lebedeva              F   Russia RUS Athletics                        5  \n",
       "Albina Khamitovna Akhatova              F   Russia RUS Biathlon                         5  \n",
       "Yuliya Vladimirovna Pakhalina           F   Russia RUS Diving                           5  "
      ]
     },
     "execution_count": 215,
     "metadata": {},
     "output_type": "execute_result"
    }
   ],
   "source": [
    "# Лучшие спортсмены в личном зачете среди граждан России (по общему количеству медалей всех достоинств)\n",
    "data5 =  data1[(data1.NOC=='RUS')] [['Name', 'Sex', 'Team', 'NOC','Sport', 'Bronze','Gold', 'Silver','Prizewinner']]\n",
    "bsr2 = data5.groupby(['Name','Sex','Team','NOC','Sport'])\n",
    "bsr2.sum().sort_values(by = 'Prizewinner', ascending = False).head(10)"
   ]
  },
  {
   "cell_type": "markdown",
   "metadata": {},
   "source": [
    "В таблице выше лидеры среди только российских спортсменов."
   ]
  },
  {
   "cell_type": "code",
   "execution_count": 216,
   "metadata": {},
   "outputs": [
    {
     "data": {
      "text/html": [
       "<div>\n",
       "<style scoped>\n",
       "    .dataframe tbody tr th:only-of-type {\n",
       "        vertical-align: middle;\n",
       "    }\n",
       "\n",
       "    .dataframe tbody tr th {\n",
       "        vertical-align: top;\n",
       "    }\n",
       "\n",
       "    .dataframe thead th {\n",
       "        text-align: right;\n",
       "    }\n",
       "</style>\n",
       "<table border=\"1\" class=\"dataframe\">\n",
       "  <thead>\n",
       "    <tr style=\"text-align: right;\">\n",
       "      <th></th>\n",
       "      <th>Sport</th>\n",
       "      <th>Height</th>\n",
       "    </tr>\n",
       "  </thead>\n",
       "  <tbody>\n",
       "    <tr>\n",
       "      <th>0</th>\n",
       "      <td>Basketball</td>\n",
       "      <td>190.9</td>\n",
       "    </tr>\n",
       "    <tr>\n",
       "      <th>1</th>\n",
       "      <td>Volleyball</td>\n",
       "      <td>187.0</td>\n",
       "    </tr>\n",
       "    <tr>\n",
       "      <th>2</th>\n",
       "      <td>Beach Volleyball</td>\n",
       "      <td>186.1</td>\n",
       "    </tr>\n",
       "    <tr>\n",
       "      <th>3</th>\n",
       "      <td>Water Polo</td>\n",
       "      <td>184.8</td>\n",
       "    </tr>\n",
       "    <tr>\n",
       "      <th>4</th>\n",
       "      <td>Rowing</td>\n",
       "      <td>184.2</td>\n",
       "    </tr>\n",
       "    <tr>\n",
       "      <th>5</th>\n",
       "      <td>Handball</td>\n",
       "      <td>183.4</td>\n",
       "    </tr>\n",
       "    <tr>\n",
       "      <th>6</th>\n",
       "      <td>Baseball</td>\n",
       "      <td>182.6</td>\n",
       "    </tr>\n",
       "    <tr>\n",
       "      <th>7</th>\n",
       "      <td>Tug-Of-War</td>\n",
       "      <td>182.5</td>\n",
       "    </tr>\n",
       "    <tr>\n",
       "      <th>8</th>\n",
       "      <td>Bobsleigh</td>\n",
       "      <td>181.4</td>\n",
       "    </tr>\n",
       "    <tr>\n",
       "      <th>9</th>\n",
       "      <td>Motorboating</td>\n",
       "      <td>181.0</td>\n",
       "    </tr>\n",
       "  </tbody>\n",
       "</table>\n",
       "</div>"
      ],
      "text/plain": [
       "              Sport  Height\n",
       "0        Basketball   190.9\n",
       "1        Volleyball   187.0\n",
       "2  Beach Volleyball   186.1\n",
       "3        Water Polo   184.8\n",
       "4            Rowing   184.2\n",
       "5          Handball   183.4\n",
       "6          Baseball   182.6\n",
       "7        Tug-Of-War   182.5\n",
       "8         Bobsleigh   181.4\n",
       "9      Motorboating   181.0"
      ]
     },
     "execution_count": 216,
     "metadata": {},
     "output_type": "execute_result"
    }
   ],
   "source": [
    "# Вычислим самых высоких спортсменов \n",
    "dfHeight = pd.DataFrame(data1.groupby(['Sport'])['Height'].mean().round(1).sort_values(ascending = False)).reset_index()\n",
    "dfHeight.head(10)"
   ]
  },
  {
   "cell_type": "code",
   "execution_count": 244,
   "metadata": {},
   "outputs": [
    {
     "data": {
      "image/png": "[encoded data removed]",
      "text/plain": [
       "<Figure size 432x288 with 1 Axes>"
      ]
     },
     "metadata": {
      "needs_background": "light"
     },
     "output_type": "display_data"
    }
   ],
   "source": [
    "ploth = dfHeight.head(10).plot.bar(ylim=[180,195], y='Height', x='Sport', color='g', title='Топ 10 видов спорта по среднему росту');"
   ]
  },
  {
   "cell_type": "markdown",
   "metadata": {},
   "source": [
    "На этой диаграмме представлены 10 видов спорта, спортсмены которых имеют наибольший средний рост. По диаграмме видно, что три вида спорта довольно значительно превосходят по среднему росту - это баскетбол (190.9 см) , волейбол (187.0 см пляжный волейбол (186.1 см). "
   ]
  },
  {
   "cell_type": "code",
   "execution_count": 218,
   "metadata": {},
   "outputs": [
    {
     "data": {
      "text/plain": [
       "Sport\n",
       "Basketball          194.9\n",
       "Volleyball          193.3\n",
       "Beach Volleyball    193.3\n",
       "Handball            188.8\n",
       "Rowing              186.9\n",
       "Water Polo          186.8\n",
       "Tennis              184.8\n",
       "Swimming            184.3\n",
       "Rugby Sevens        182.8\n",
       "Baseball            182.6\n",
       "Name: Height, dtype: float64"
      ]
     },
     "execution_count": 218,
     "metadata": {},
     "output_type": "execute_result"
    }
   ],
   "source": [
    "# Самые высокие среди мужчин \n",
    "dfHeightm = data1[data1['Sex'] == 'M'].groupby(['Sport'])['Height'].mean().round(1).sort_values(ascending = False)\n",
    "dfHeightm.head(10)"
   ]
  },
  {
   "cell_type": "code",
   "execution_count": 219,
   "metadata": {},
   "outputs": [
    {
     "data": {
      "image/png": "[encoded data removed]",
      "text/plain": [
       "<Figure size 432x288 with 1 Axes>"
      ]
     },
     "metadata": {
      "needs_background": "light"
     },
     "output_type": "display_data"
    }
   ],
   "source": [
    "dfHeightm.head(10).plot.bar(ylim=[180,197], y='Height', x='Sport', color='g', title='Топ 10 видов спорта по среднему росту');"
   ]
  },
  {
   "cell_type": "markdown",
   "metadata": {},
   "source": [
    "Ситуация с мужскими видами спорта аналогична. Баскетбол, Волейбол и пляжный волейбол значительно выделяются."
   ]
  },
  {
   "cell_type": "code",
   "execution_count": 220,
   "metadata": {},
   "outputs": [
    {
     "data": {
      "text/plain": [
       "Sport\n",
       "Basketball          182.5\n",
       "Volleyball          179.5\n",
       "Beach Volleyball    178.9\n",
       "Rowing              176.8\n",
       "Water Polo          175.6\n",
       "Handball            174.8\n",
       "Bobsleigh           173.2\n",
       "Tennis              172.3\n",
       "Swimming            171.5\n",
       "Taekwondo           170.8\n",
       "Name: Height, dtype: float64"
      ]
     },
     "execution_count": 220,
     "metadata": {},
     "output_type": "execute_result"
    }
   ],
   "source": [
    "# Самые высокие среди женщин\n",
    "dfHeightw = data1[data1['Sex'] == 'F'].groupby(['Sport'])['Height'].mean().round(1).sort_values(ascending = False)\n",
    "dfHeightw.head(10)"
   ]
  },
  {
   "cell_type": "code",
   "execution_count": 221,
   "metadata": {},
   "outputs": [
    {
     "data": {
      "image/png": "[encoded data removed]",
      "text/plain": [
       "<Figure size 432x288 with 1 Axes>"
      ]
     },
     "metadata": {
      "needs_background": "light"
     },
     "output_type": "display_data"
    }
   ],
   "source": [
    "dfHeightw.head(10).plot.bar(ylim=[170,185], y='Height', x='Sport', color='g', title='Топ 10 видов спорта по среднему росту');"
   ]
  },
  {
   "cell_type": "markdown",
   "metadata": {},
   "source": [
    "И вновь аналогична ситуация со средним ростом в женских видах спорта."
   ]
  },
  {
   "cell_type": "code",
   "execution_count": 222,
   "metadata": {},
   "outputs": [
    {
     "data": {
      "text/html": [
       "<div>\n",
       "<style scoped>\n",
       "    .dataframe tbody tr th:only-of-type {\n",
       "        vertical-align: middle;\n",
       "    }\n",
       "\n",
       "    .dataframe tbody tr th {\n",
       "        vertical-align: top;\n",
       "    }\n",
       "\n",
       "    .dataframe thead th {\n",
       "        text-align: right;\n",
       "    }\n",
       "</style>\n",
       "<table border=\"1\" class=\"dataframe\">\n",
       "  <thead>\n",
       "    <tr style=\"text-align: right;\">\n",
       "      <th></th>\n",
       "      <th>Sport</th>\n",
       "      <th>Weight</th>\n",
       "    </tr>\n",
       "  </thead>\n",
       "  <tbody>\n",
       "    <tr>\n",
       "      <th>0</th>\n",
       "      <td>Tug-Of-War</td>\n",
       "      <td>95.6</td>\n",
       "    </tr>\n",
       "    <tr>\n",
       "      <th>1</th>\n",
       "      <td>Bobsleigh</td>\n",
       "      <td>89.3</td>\n",
       "    </tr>\n",
       "    <tr>\n",
       "      <th>2</th>\n",
       "      <td>Basketball</td>\n",
       "      <td>85.8</td>\n",
       "    </tr>\n",
       "    <tr>\n",
       "      <th>3</th>\n",
       "      <td>Baseball</td>\n",
       "      <td>85.7</td>\n",
       "    </tr>\n",
       "    <tr>\n",
       "      <th>4</th>\n",
       "      <td>Water Polo</td>\n",
       "      <td>84.6</td>\n",
       "    </tr>\n",
       "    <tr>\n",
       "      <th>5</th>\n",
       "      <td>Handball</td>\n",
       "      <td>81.5</td>\n",
       "    </tr>\n",
       "    <tr>\n",
       "      <th>6</th>\n",
       "      <td>Ice Hockey</td>\n",
       "      <td>80.8</td>\n",
       "    </tr>\n",
       "    <tr>\n",
       "      <th>7</th>\n",
       "      <td>Rowing</td>\n",
       "      <td>80.0</td>\n",
       "    </tr>\n",
       "    <tr>\n",
       "      <th>8</th>\n",
       "      <td>Beach Volleyball</td>\n",
       "      <td>79.1</td>\n",
       "    </tr>\n",
       "    <tr>\n",
       "      <th>9</th>\n",
       "      <td>Rugby Sevens</td>\n",
       "      <td>78.9</td>\n",
       "    </tr>\n",
       "  </tbody>\n",
       "</table>\n",
       "</div>"
      ],
      "text/plain": [
       "              Sport  Weight\n",
       "0        Tug-Of-War    95.6\n",
       "1         Bobsleigh    89.3\n",
       "2        Basketball    85.8\n",
       "3          Baseball    85.7\n",
       "4        Water Polo    84.6\n",
       "5          Handball    81.5\n",
       "6        Ice Hockey    80.8\n",
       "7            Rowing    80.0\n",
       "8  Beach Volleyball    79.1\n",
       "9      Rugby Sevens    78.9"
      ]
     },
     "execution_count": 222,
     "metadata": {},
     "output_type": "execute_result"
    }
   ],
   "source": [
    "# Вычислим самых высоких спортсменов \n",
    "dfWeight = pd.DataFrame(data1.groupby(['Sport'])['Weight'].mean().round(1).sort_values(ascending = False)).reset_index()\n",
    "dfWeight.head(10)"
   ]
  },
  {
   "cell_type": "code",
   "execution_count": 223,
   "metadata": {},
   "outputs": [
    {
     "data": {
      "image/png": "[encoded data removed]",
      "text/plain": [
       "<Figure size 432x288 with 1 Axes>"
      ]
     },
     "metadata": {
      "needs_background": "light"
     },
     "output_type": "display_data"
    }
   ],
   "source": [
    "dfWeight.head(10).plot.bar(ylim=[75,100], y='Weight', x='Sport', color='b', title='Топ 10 видов спорта по среднему весу');"
   ]
  },
  {
   "cell_type": "markdown",
   "metadata": {},
   "source": [
    "На этой диаграмме представлены топ 10 видов спорта по среднему весу. Лидирующую позицию занимает перетягивание каната, спортсмены из этого вида спорта на более чем 5 кг в среднем тяжелее второго места (бобслея), приэтом по среднему росту перетягивание каната было лишь 7 в топ 10."
   ]
  },
  {
   "cell_type": "code",
   "execution_count": 224,
   "metadata": {},
   "outputs": [
    {
     "data": {
      "text/plain": [
       "Sport\n",
       "Tug-Of-War          95.6\n",
       "Basketball          91.7\n",
       "Rugby Sevens        91.0\n",
       "Bobsleigh           90.4\n",
       "Beach Volleyball    89.5\n",
       "Handball            89.4\n",
       "Water Polo          87.7\n",
       "Volleyball          86.9\n",
       "Baseball            85.7\n",
       "Ice Hockey          83.8\n",
       "Name: Weight, dtype: float64"
      ]
     },
     "execution_count": 224,
     "metadata": {},
     "output_type": "execute_result"
    }
   ],
   "source": [
    "# Самые высокие среди мужчин \n",
    "dfWeightm = data1[data1['Sex'] == 'M'].groupby(['Sport'])['Weight'].mean().round(1).sort_values(ascending = False)\n",
    "dfWeightm.head(10)"
   ]
  },
  {
   "cell_type": "markdown",
   "metadata": {},
   "source": [
    "В мужских видах спорта также лидирует перетягивание каната."
   ]
  },
  {
   "cell_type": "code",
   "execution_count": 225,
   "metadata": {},
   "outputs": [
    {
     "data": {
      "text/plain": [
       "Sport\n",
       "Basketball          73.7\n",
       "Bobsleigh           72.8\n",
       "Water Polo          70.2\n",
       "Rowing              70.1\n",
       "Volleyball          69.3\n",
       "Handball            68.9\n",
       "Beach Volleyball    68.4\n",
       "Weightlifting       67.7\n",
       "Softball            67.5\n",
       "Judo                67.1\n",
       "Name: Weight, dtype: float64"
      ]
     },
     "execution_count": 225,
     "metadata": {},
     "output_type": "execute_result"
    }
   ],
   "source": [
    "# Самые высокие среди женщин\n",
    "dfWeightw = data1[data1['Sex'] == 'F'].groupby(['Sport'])['Weight'].mean().round(1).sort_values(ascending = False)\n",
    "dfWeightw.head(10)"
   ]
  },
  {
   "cell_type": "markdown",
   "metadata": {},
   "source": [
    "При этом, тк перетягивание каната является мужским видом спорта, у женщин ситуация с видами спорта, где спортсмены имеют наибольший вес, несколько отличается. Лидирует - баскетбол."
   ]
  },
  {
   "cell_type": "code",
   "execution_count": null,
   "metadata": {},
   "outputs": [],
   "source": []
  }
 ],
 "metadata": {
  "kernelspec": {
   "display_name": "Python 3",
   "language": "python",
   "name": "python3"
  },
  "language_info": {
   "codemirror_mode": {
    "name": "ipython",
    "version": 3
   },
   "file_extension": ".py",
   "mimetype": "text/x-python",
   "name": "python",
   "nbconvert_exporter": "python",
   "pygments_lexer": "ipython3",
   "version": "3.8.5"
  }
 },
 "nbformat": 4,
 "nbformat_minor": 4
}
